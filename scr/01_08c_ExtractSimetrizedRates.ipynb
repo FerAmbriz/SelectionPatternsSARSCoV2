{
 "cells": [
  {
   "cell_type": "code",
   "execution_count": 18,
   "id": "4d6564e4-d476-40a5-a821-5c9ef7ca06ad",
   "metadata": {},
   "outputs": [],
   "source": [
    "import pandas as pd\n",
    "import networkx as nx\n",
    "import matplotlib.pyplot as plt\n",
    "import numpy as np\n",
    "from sklearn.cluster import SpectralClustering\n",
    "import os"
   ]
  },
  {
   "cell_type": "code",
   "execution_count": 19,
   "id": "64d07e7b-72d2-45d4-9572-1735a20e19ed",
   "metadata": {},
   "outputs": [
    {
     "data": {
      "text/plain": [
       "['ncov_merge_ID_(2010-12-05, 2020-03-01]',\n",
       " 'ncov_merge_ID_(2020-09-01, 2021-01-01]',\n",
       " 'ncov_merge_ID_(2022-01-01, 2022-06-01]',\n",
       " 'ncov_merge_ID_(2022-06-01, 2022-11-01]']"
      ]
     },
     "execution_count": 19,
     "metadata": {},
     "output_type": "execute_result"
    }
   ],
   "source": [
    "path = '/home/ferambriz/Programs/cluster_temporal/'\n",
    "files = os.listdir(path)\n",
    "files.pop(0); files"
   ]
  },
  {
   "cell_type": "code",
   "execution_count": 30,
   "id": "0e944471-2bef-40f9-97d7-efe82950102b",
   "metadata": {},
   "outputs": [],
   "source": [
    "def match_country(key, dict_countries):\n",
    "    if key == '':\n",
    "        return ''\n",
    "    else: \n",
    "        return dict_countries[key]\n",
    "        \n",
    "def clean(s):\n",
    "    if s == '':\n",
    "        return ''\n",
    "    else:\n",
    "        return s.split('  ')[1]\n",
    "        \n",
    "def clean_data(df):\n",
    "    inicio = int(df[df['a'] == 'Map from character to field name'].index[0])\n",
    "    fin = int(df[df['a'].str.startswith('Substitution')].index[0]) - 1\n",
    "    \n",
    "    \n",
    "    df_countries = df.loc[inicio + 1 :fin ]\n",
    "    df_countries = df_countries['a'].str.split('\\t', expand=True)\n",
    "    \n",
    "    dict_countries = {}\n",
    "    \n",
    "    for i in range(1, len(df_countries)+1):\n",
    "        dict_countries[df_countries[0][i].split(':')[0]] = df_countries[1][i]\n",
    "\n",
    "    df_countries = df.loc[inicio + 1 :fin ]\n",
    "    df_countries = df_countries['a'].str.split('\\t', expand=True)\n",
    "\n",
    "    dict_countries = {}\n",
    "\n",
    "    for i in range(1, len(df_countries)+1):\n",
    "        dict_countries[df_countries[0][i].split(':')[0]] = df_countries[1][i]\n",
    "\n",
    "    inicio = int(df[df['a'] == 'Symmetrized rates from j->i (W_ij):'].index[0])\n",
    "    fin = int(df[df['a'] == 'Actual rates from j->i (Q_ij):'].index[0])\n",
    "    \n",
    "    simetrized_rates = df.loc[inicio + 1 :fin - 1]\n",
    "    simetrized_rates = simetrized_rates['a'].str.split('\\t', expand=True)\n",
    "    \n",
    "    \n",
    "    # columns and rows names\n",
    "    simetrized_rates[0] = list(map(clean, simetrized_rates[0]))\n",
    "    dict= [dict_countries]*len(simetrized_rates[0])\n",
    "    simetrized_rates[0] = list(map(match_country, simetrized_rates[0], dict))\n",
    "    simetrized_rates.columns = simetrized_rates[0]\n",
    "    simetrized_rates = simetrized_rates.set_index('')\n",
    "    \n",
    "    # cleaning\n",
    "    simetrized_rates = simetrized_rates.drop('')\n",
    "    return simetrized_rates\n"
   ]
  },
  {
   "cell_type": "code",
   "execution_count": 33,
   "id": "8868c30c-f7a6-4901-9f42-d969b5eb84a9",
   "metadata": {},
   "outputs": [],
   "source": [
    "for i in files:\n",
    "    x = f'{path}/{i}/results/custom-build/traitscountry.mugration_model.txt'\n",
    "    df = pd.read_csv(x, names = ['a'])\n",
    "    simetrized_rates = clean_data(df)\n",
    "    simetrized_rates.to_csv(f'/home/ferambriz/Projects/SARS-CoV-2/Data/matrix_simetrized/{i}_matriz_simetrized_rates.tsv', sep = '\\t')"
   ]
  },
  {
   "cell_type": "code",
   "execution_count": null,
   "id": "e86872ce-ec2f-4dd5-a2ac-4c7a40be74bb",
   "metadata": {},
   "outputs": [],
   "source": []
  }
 ],
 "metadata": {
  "kernelspec": {
   "display_name": "Python 3 (ipykernel)",
   "language": "python",
   "name": "python3"
  },
  "language_info": {
   "codemirror_mode": {
    "name": "ipython",
    "version": 3
   },
   "file_extension": ".py",
   "mimetype": "text/x-python",
   "name": "python",
   "nbconvert_exporter": "python",
   "pygments_lexer": "ipython3",
   "version": "3.12.4"
  }
 },
 "nbformat": 4,
 "nbformat_minor": 5
}
