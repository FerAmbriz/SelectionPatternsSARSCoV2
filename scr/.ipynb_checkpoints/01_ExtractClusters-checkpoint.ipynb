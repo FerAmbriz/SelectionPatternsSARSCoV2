{
 "cells": [
  {
   "cell_type": "markdown",
   "id": "808b0891-412e-430d-9f0c-4198950b4815",
   "metadata": {},
   "source": [
    "# Inicializacion y limpieza de datos para el inicio del analisis\n",
    "En este codigo se identifican las secuencias con un hospedero humano y se genera un nuevo fasta concenso con las secuencias pertinentes para los analisis posteriores"
   ]
  },
  {
   "cell_type": "code",
   "execution_count": 49,
   "id": "9e22d365-3054-4387-a739-e71f05ca8f38",
   "metadata": {},
   "outputs": [],
   "source": [
    "import pandas as pd\n",
    "import seaborn as sns"
   ]
  },
  {
   "cell_type": "code",
   "execution_count": 50,
   "id": "9631ee24-a132-42e0-9cbf-568a23acd749",
   "metadata": {},
   "outputs": [
    {
     "name": "stderr",
     "output_type": "stream",
     "text": [
      "/tmp/ipykernel_21462/289996525.py:1: DtypeWarning: Columns (31) have mixed types. Specify dtype option on import or set low_memory=False.\n",
      "  df = pd.read_csv('../Data/metadata_clades.tsv', sep = '\\t')\n"
     ]
    },
    {
     "data": {
      "text/html": [
       "<div>\n",
       "<style scoped>\n",
       "    .dataframe tbody tr th:only-of-type {\n",
       "        vertical-align: middle;\n",
       "    }\n",
       "\n",
       "    .dataframe tbody tr th {\n",
       "        vertical-align: top;\n",
       "    }\n",
       "\n",
       "    .dataframe thead th {\n",
       "        text-align: right;\n",
       "    }\n",
       "</style>\n",
       "<table border=\"1\" class=\"dataframe\">\n",
       "  <thead>\n",
       "    <tr style=\"text-align: right;\">\n",
       "      <th></th>\n",
       "      <th>strain</th>\n",
       "      <th>virus</th>\n",
       "      <th>gisaid_epi_isl</th>\n",
       "      <th>genbank_accession</th>\n",
       "      <th>date</th>\n",
       "      <th>region</th>\n",
       "      <th>country</th>\n",
       "      <th>division</th>\n",
       "      <th>location</th>\n",
       "      <th>region_exposure</th>\n",
       "      <th>...</th>\n",
       "      <th>title</th>\n",
       "      <th>paper_url</th>\n",
       "      <th>date_submitted</th>\n",
       "      <th>purpose_of_sequencing</th>\n",
       "      <th>año</th>\n",
       "      <th>mes</th>\n",
       "      <th>clade</th>\n",
       "      <th>clade_who</th>\n",
       "      <th>Group</th>\n",
       "      <th>Group_smooth</th>\n",
       "    </tr>\n",
       "  </thead>\n",
       "  <tbody>\n",
       "    <tr>\n",
       "      <th>0</th>\n",
       "      <td>&gt;hCoV-19/otter/USA/GA-21-011485-003/2021</td>\n",
       "      <td>betacoronavirus</td>\n",
       "      <td>EPI_ISL_3152719</td>\n",
       "      <td>?</td>\n",
       "      <td>2021-04-16</td>\n",
       "      <td>America</td>\n",
       "      <td>USA</td>\n",
       "      <td>Georgia</td>\n",
       "      <td>NaN</td>\n",
       "      <td>North America</td>\n",
       "      <td>...</td>\n",
       "      <td>?</td>\n",
       "      <td>?</td>\n",
       "      <td>2021-07-30</td>\n",
       "      <td>?</td>\n",
       "      <td>2021</td>\n",
       "      <td>4</td>\n",
       "      <td>20I</td>\n",
       "      <td>Alpha</td>\n",
       "      <td>(2021-01-01, 2021-06-01]</td>\n",
       "      <td>(2021-01-01, 2021-05-01]</td>\n",
       "    </tr>\n",
       "    <tr>\n",
       "      <th>1</th>\n",
       "      <td>&gt;hCoV-19/otter/USA/GA-21-011485-005/2021</td>\n",
       "      <td>betacoronavirus</td>\n",
       "      <td>EPI_ISL_3152720</td>\n",
       "      <td>?</td>\n",
       "      <td>2021-04-16</td>\n",
       "      <td>America</td>\n",
       "      <td>USA</td>\n",
       "      <td>Georgia</td>\n",
       "      <td>NaN</td>\n",
       "      <td>North America</td>\n",
       "      <td>...</td>\n",
       "      <td>?</td>\n",
       "      <td>?</td>\n",
       "      <td>2021-07-30</td>\n",
       "      <td>?</td>\n",
       "      <td>2021</td>\n",
       "      <td>4</td>\n",
       "      <td>20I</td>\n",
       "      <td>Alpha</td>\n",
       "      <td>(2021-01-01, 2021-06-01]</td>\n",
       "      <td>(2021-01-01, 2021-05-01]</td>\n",
       "    </tr>\n",
       "  </tbody>\n",
       "</table>\n",
       "<p>2 rows × 34 columns</p>\n",
       "</div>"
      ],
      "text/plain": [
       "                                     strain            virus   gisaid_epi_isl  \\\n",
       "0  >hCoV-19/otter/USA/GA-21-011485-003/2021  betacoronavirus  EPI_ISL_3152719   \n",
       "1  >hCoV-19/otter/USA/GA-21-011485-005/2021  betacoronavirus  EPI_ISL_3152720   \n",
       "\n",
       "  genbank_accession        date   region country division location  \\\n",
       "0                 ?  2021-04-16  America     USA  Georgia      NaN   \n",
       "1                 ?  2021-04-16  America     USA  Georgia      NaN   \n",
       "\n",
       "  region_exposure  ... title paper_url date_submitted  purpose_of_sequencing  \\\n",
       "0   North America  ...     ?         ?     2021-07-30                      ?   \n",
       "1   North America  ...     ?         ?     2021-07-30                      ?   \n",
       "\n",
       "    año mes clade clade_who                     Group  \\\n",
       "0  2021   4   20I     Alpha  (2021-01-01, 2021-06-01]   \n",
       "1  2021   4   20I     Alpha  (2021-01-01, 2021-06-01]   \n",
       "\n",
       "               Group_smooth  \n",
       "0  (2021-01-01, 2021-05-01]  \n",
       "1  (2021-01-01, 2021-05-01]  \n",
       "\n",
       "[2 rows x 34 columns]"
      ]
     },
     "execution_count": 50,
     "metadata": {},
     "output_type": "execute_result"
    }
   ],
   "source": [
    "df = pd.read_csv('../../Data/metadata_clades.tsv', sep = '\\t')\n",
    "\n",
    "def insert_header(strain):\n",
    "    return '>' + strain\n",
    "df['strain'] = list(map(insert_header, df['strain']))\n",
    "df.iloc[0:2]"
   ]
  },
  {
   "cell_type": "markdown",
   "id": "5d03b90c-3f73-430b-ab35-c03f659717c1",
   "metadata": {},
   "source": [
    "## Filter by human host"
   ]
  },
  {
   "cell_type": "code",
   "execution_count": 51,
   "id": "ae0ef1d3-4b47-4409-9a1d-00c7fae5461f",
   "metadata": {},
   "outputs": [],
   "source": [
    "df_h = df[df['host']=='Human']\n",
    "df_hs = df[df['host']=='Human']['strain']"
   ]
  },
  {
   "cell_type": "code",
   "execution_count": 52,
   "id": "d21d2a6a-edd2-41a1-a7a6-c1a14242295a",
   "metadata": {},
   "outputs": [],
   "source": [
    "df_hs.to_csv('../Data/BloqueHuman/ID_Human.tsv', sep = '\\t', index = False)"
   ]
  },
  {
   "cell_type": "markdown",
   "id": "40d1bf3c-72d2-4349-8759-54ab9dd2814a",
   "metadata": {},
   "source": [
    "## Filter by clades and human host"
   ]
  },
  {
   "cell_type": "code",
   "execution_count": 46,
   "id": "15dc066d-847c-45a3-9855-21d82c8dea27",
   "metadata": {},
   "outputs": [],
   "source": [
    "for i in df_h['clade'].value_counts().index:\n",
    "    df_i = df_h[df_h['clade'] == i]['strain']\n",
    "    df_i.to_csv('../Data/BloquesVariantes2/' + i + '_human.tsv', sep = '\\t', index = False)"
   ]
  },
  {
   "cell_type": "markdown",
   "id": "215d12f8-feb6-4c28-a2d4-fdea1856f61e",
   "metadata": {},
   "source": [
    "## Filter by cluster dominance and human host"
   ]
  },
  {
   "cell_type": "code",
   "execution_count": 47,
   "id": "e3da2d97-9b6b-4a19-994a-78e89a7ff0ac",
   "metadata": {},
   "outputs": [],
   "source": [
    "for i in df_h['Group_smooth'].value_counts().index:\n",
    "    df_i = df_h[df_h['Group_smooth'] == i]['strain']\n",
    "    ID=str(i).replace(', ', ',')\n",
    "    df_i.to_csv('../Data/BloquesTemporalClusters/' + ID + '_human.tsv', sep = '\\t', index = False)"
   ]
  },
  {
   "cell_type": "markdown",
   "id": "13aaa910-48f5-47b1-b436-964e19381451",
   "metadata": {},
   "source": [
    "Posteriormente se filtran con: \n",
    "* bash 02_filter_fasta.sh ../Data/BloqueHuman\n",
    "* bash 02_filter_fasta.sh ../Data/BloquesTemporalClusters\n",
    "* bash 02_filter_fasta.sh ../Data/BloquesVariantes2 "
   ]
  }
 ],
 "metadata": {
  "kernelspec": {
   "display_name": "Python 3 (ipykernel)",
   "language": "python",
   "name": "python3"
  },
  "language_info": {
   "codemirror_mode": {
    "name": "ipython",
    "version": 3
   },
   "file_extension": ".py",
   "mimetype": "text/x-python",
   "name": "python",
   "nbconvert_exporter": "python",
   "pygments_lexer": "ipython3",
   "version": "3.12.4"
  }
 },
 "nbformat": 4,
 "nbformat_minor": 5
}
