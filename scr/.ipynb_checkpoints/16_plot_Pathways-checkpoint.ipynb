{
 "cells": [
  {
   "cell_type": "code",
   "execution_count": 2,
   "id": "b0a04f14-b01f-4b0b-a0a4-73fe47f0a888",
   "metadata": {},
   "outputs": [],
   "source": [
    "library(tidyverse)\n",
    "library(ComplexHeatmap)\n",
    "library(circlize)\n",
    "library(viridis)"
   ]
  },
  {
   "cell_type": "code",
   "execution_count": 3,
   "id": "a324e5fe-053c-43a3-9216-805f4712afcd",
   "metadata": {},
   "outputs": [
    {
     "name": "stderr",
     "output_type": "stream",
     "text": [
      "\u001b[1mRows: \u001b[22m\u001b[34m62\u001b[39m \u001b[1mColumns: \u001b[22m\u001b[34m39\u001b[39m\n",
      "\u001b[36m──\u001b[39m \u001b[1mColumn specification\u001b[22m \u001b[36m────────────────────────────────────────────────────────\u001b[39m\n",
      "\u001b[1mDelimiter:\u001b[22m \"\\t\"\n",
      "\u001b[31mchr\u001b[39m  (1): function\n",
      "\u001b[32mdbl\u001b[39m (38): 19A, 19B, 20A, 20B, 20C, 20D, 20E, 20F, 20G, 20H, 20I, 20J, 21A, 2...\n",
      "\n",
      "\u001b[36mℹ\u001b[39m Use `spec()` to retrieve the full column specification for this data.\n",
      "\u001b[36mℹ\u001b[39m Specify the column types or set `show_col_types = FALSE` to quiet this message.\n",
      "\u001b[1mRows: \u001b[22m\u001b[34m89\u001b[39m \u001b[1mColumns: \u001b[22m\u001b[34m39\u001b[39m\n",
      "\u001b[36m──\u001b[39m \u001b[1mColumn specification\u001b[22m \u001b[36m────────────────────────────────────────────────────────\u001b[39m\n",
      "\u001b[1mDelimiter:\u001b[22m \"\\t\"\n",
      "\u001b[31mchr\u001b[39m  (1): function\n",
      "\u001b[32mdbl\u001b[39m (38): 19A, 19B, 20A, 20B, 20C, 20D, 20E, 20F, 20G, 20H, 20I, 20J, 21A, 2...\n",
      "\n",
      "\u001b[36mℹ\u001b[39m Use `spec()` to retrieve the full column specification for this data.\n",
      "\u001b[36mℹ\u001b[39m Specify the column types or set `show_col_types = FALSE` to quiet this message.\n"
     ]
    },
    {
     "data": {
      "text/html": [
       "<table class=\"dataframe\">\n",
       "<caption>A matrix: 6 × 38 of type dbl</caption>\n",
       "<thead>\n",
       "\t<tr><th></th><th scope=col>19A</th><th scope=col>19B</th><th scope=col>20A</th><th scope=col>20B</th><th scope=col>20C</th><th scope=col>20D</th><th scope=col>20E</th><th scope=col>20F</th><th scope=col>20G</th><th scope=col>20H</th><th scope=col>⋯</th><th scope=col>22D</th><th scope=col>22E</th><th scope=col>22F</th><th scope=col>23A</th><th scope=col>23B</th><th scope=col>23C</th><th scope=col>23D</th><th scope=col>23E</th><th scope=col>23F</th><th scope=col>recombinant</th></tr>\n",
       "</thead>\n",
       "<tbody>\n",
       "\t<tr><th scope=row>Desarrollo de tubo</th><td>NA</td><td>NA</td><td>NA</td><td>NA</td><td> 9</td><td>24</td><td>NA</td><td>NA</td><td>NA</td><td>NA</td><td>⋯</td><td>NA</td><td>20</td><td>20</td><td>NA</td><td>NA</td><td>NA</td><td>NA</td><td>13</td><td>NA</td><td>10</td></tr>\n",
       "\t<tr><th scope=row>Fosforilación</th><td> 9</td><td>NA</td><td>10</td><td>25</td><td>NA</td><td>28</td><td>15</td><td>11</td><td>11</td><td>15</td><td>⋯</td><td>16</td><td>22</td><td>21</td><td>15</td><td>14</td><td>25</td><td>NA</td><td>NA</td><td>15</td><td>10</td></tr>\n",
       "\t<tr><th scope=row>Fosforilación de proteinas</th><td>17</td><td>17</td><td>18</td><td>44</td><td>16</td><td>49</td><td>28</td><td>20</td><td>21</td><td>26</td><td>⋯</td><td>29</td><td>38</td><td>35</td><td>25</td><td>27</td><td>44</td><td>15</td><td>21</td><td>26</td><td>19</td></tr>\n",
       "\t<tr><th scope=row>Metabolismo de fosfato</th><td>NA</td><td>NA</td><td>NA</td><td>NA</td><td>NA</td><td>NA</td><td>NA</td><td>NA</td><td>NA</td><td>NA</td><td>⋯</td><td>NA</td><td>NA</td><td>NA</td><td>NA</td><td>NA</td><td>NA</td><td>NA</td><td>NA</td><td>12</td><td>NA</td></tr>\n",
       "\t<tr><th scope=row>Metabolismo de nitrógeno</th><td> 9</td><td>NA</td><td>NA</td><td>23</td><td>NA</td><td>31</td><td>17</td><td>11</td><td>NA</td><td>17</td><td>⋯</td><td>21</td><td>24</td><td>22</td><td>16</td><td>14</td><td>27</td><td>NA</td><td>13</td><td>13</td><td>NA</td></tr>\n",
       "\t<tr><th scope=row>Morfogénesis</th><td> 9</td><td>10</td><td>NA</td><td>NA</td><td>10</td><td>NA</td><td>NA</td><td>NA</td><td>NA</td><td>15</td><td>⋯</td><td>NA</td><td>NA</td><td>19</td><td>NA</td><td>NA</td><td>NA</td><td> 9</td><td>13</td><td>NA</td><td>NA</td></tr>\n",
       "</tbody>\n",
       "</table>\n"
      ],
      "text/latex": [
       "A matrix: 6 × 38 of type dbl\n",
       "\\begin{tabular}{r|lllllllllllllllllllll}\n",
       "  & 19A & 19B & 20A & 20B & 20C & 20D & 20E & 20F & 20G & 20H & ⋯ & 22D & 22E & 22F & 23A & 23B & 23C & 23D & 23E & 23F & recombinant\\\\\n",
       "\\hline\n",
       "\tDesarrollo de tubo & NA & NA & NA & NA &  9 & 24 & NA & NA & NA & NA & ⋯ & NA & 20 & 20 & NA & NA & NA & NA & 13 & NA & 10\\\\\n",
       "\tFosforilación &  9 & NA & 10 & 25 & NA & 28 & 15 & 11 & 11 & 15 & ⋯ & 16 & 22 & 21 & 15 & 14 & 25 & NA & NA & 15 & 10\\\\\n",
       "\tFosforilación de proteinas & 17 & 17 & 18 & 44 & 16 & 49 & 28 & 20 & 21 & 26 & ⋯ & 29 & 38 & 35 & 25 & 27 & 44 & 15 & 21 & 26 & 19\\\\\n",
       "\tMetabolismo de fosfato & NA & NA & NA & NA & NA & NA & NA & NA & NA & NA & ⋯ & NA & NA & NA & NA & NA & NA & NA & NA & 12 & NA\\\\\n",
       "\tMetabolismo de nitrógeno &  9 & NA & NA & 23 & NA & 31 & 17 & 11 & NA & 17 & ⋯ & 21 & 24 & 22 & 16 & 14 & 27 & NA & 13 & 13 & NA\\\\\n",
       "\tMorfogénesis &  9 & 10 & NA & NA & 10 & NA & NA & NA & NA & 15 & ⋯ & NA & NA & 19 & NA & NA & NA &  9 & 13 & NA & NA\\\\\n",
       "\\end{tabular}\n"
      ],
      "text/markdown": [
       "\n",
       "A matrix: 6 × 38 of type dbl\n",
       "\n",
       "| <!--/--> | 19A | 19B | 20A | 20B | 20C | 20D | 20E | 20F | 20G | 20H | ⋯ | 22D | 22E | 22F | 23A | 23B | 23C | 23D | 23E | 23F | recombinant |\n",
       "|---|---|---|---|---|---|---|---|---|---|---|---|---|---|---|---|---|---|---|---|---|---|\n",
       "| Desarrollo de tubo | NA | NA | NA | NA |  9 | 24 | NA | NA | NA | NA | ⋯ | NA | 20 | 20 | NA | NA | NA | NA | 13 | NA | 10 |\n",
       "| Fosforilación |  9 | NA | 10 | 25 | NA | 28 | 15 | 11 | 11 | 15 | ⋯ | 16 | 22 | 21 | 15 | 14 | 25 | NA | NA | 15 | 10 |\n",
       "| Fosforilación de proteinas | 17 | 17 | 18 | 44 | 16 | 49 | 28 | 20 | 21 | 26 | ⋯ | 29 | 38 | 35 | 25 | 27 | 44 | 15 | 21 | 26 | 19 |\n",
       "| Metabolismo de fosfato | NA | NA | NA | NA | NA | NA | NA | NA | NA | NA | ⋯ | NA | NA | NA | NA | NA | NA | NA | NA | 12 | NA |\n",
       "| Metabolismo de nitrógeno |  9 | NA | NA | 23 | NA | 31 | 17 | 11 | NA | 17 | ⋯ | 21 | 24 | 22 | 16 | 14 | 27 | NA | 13 | 13 | NA |\n",
       "| Morfogénesis |  9 | 10 | NA | NA | 10 | NA | NA | NA | NA | 15 | ⋯ | NA | NA | 19 | NA | NA | NA |  9 | 13 | NA | NA |\n",
       "\n"
      ],
      "text/plain": [
       "                           19A 19B 20A 20B 20C 20D 20E 20F 20G 20H ⋯ 22D 22E\n",
       "Desarrollo de tubo         NA  NA  NA  NA   9  24  NA  NA  NA  NA  ⋯ NA  20 \n",
       "Fosforilación               9  NA  10  25  NA  28  15  11  11  15  ⋯ 16  22 \n",
       "Fosforilación de proteinas 17  17  18  44  16  49  28  20  21  26  ⋯ 29  38 \n",
       "Metabolismo de fosfato     NA  NA  NA  NA  NA  NA  NA  NA  NA  NA  ⋯ NA  NA \n",
       "Metabolismo de nitrógeno    9  NA  NA  23  NA  31  17  11  NA  17  ⋯ 21  24 \n",
       "Morfogénesis                9  10  NA  NA  10  NA  NA  NA  NA  15  ⋯ NA  NA \n",
       "                           22F 23A 23B 23C 23D 23E 23F recombinant\n",
       "Desarrollo de tubo         20  NA  NA  NA  NA  13  NA  10         \n",
       "Fosforilación              21  15  14  25  NA  NA  15  10         \n",
       "Fosforilación de proteinas 35  25  27  44  15  21  26  19         \n",
       "Metabolismo de fosfato     NA  NA  NA  NA  NA  NA  12  NA         \n",
       "Metabolismo de nitrógeno   22  16  14  27  NA  13  13  NA         \n",
       "Morfogénesis               19  NA  NA  NA   9  13  NA  NA         "
      ]
     },
     "metadata": {},
     "output_type": "display_data"
    }
   ],
   "source": [
    "dfv5 <- read_tsv('../../Data/Estratos/Pathways_ExpressionFilter/MatrixPathwaysTop15_variants_region5.tsv')\n",
    "dfv3 <- read_tsv('../../Data/Estratos/Pathways_ExpressionFilter/MatrixPathwaysTop15_variants_region3.tsv')\n",
    "\n",
    "#dft <- read_tsv('../Data/MatrixPathwaysTop15_time.tsv')\n",
    "\n",
    "\n",
    "#rownames_dft <- dft$'function'\n",
    "rownames_dfv5 <- dfv5$'function'\n",
    "rownames_dfv3 <- dfv3$'function'\n",
    "\n",
    "#mat_t <- as.matrix(dft) \n",
    "mat_v5 <- as.matrix(dfv5)\n",
    "mat_v3 <- as.matrix(dfv3)\n",
    "\n",
    "#mat_t <- mat_t[, -1]\n",
    "mat_v5 <- mat_v5[, -1]\n",
    "mat_v3 <- mat_v3[, -1]\n",
    "\n",
    "#colnames_dft = colnames(mat_t)\n",
    "colnames_dfv5 = colnames(mat_v5)\n",
    "colnames_dfv3 = colnames(mat_v3)\n",
    "\n",
    "\n",
    "mat_v5 <- matrix(as.numeric(mat_v5), nrow=nrow(mat_v5), ncol=ncol(mat_v5))\n",
    "mat_v3 <- matrix(as.numeric(mat_v3), nrow=nrow(mat_v3), ncol=ncol(mat_v3))\n",
    "#mat_t <- matrix(as.numeric(mat_t), nrow=nrow(mat_t), ncol=ncol(mat_t))\n",
    "\n",
    "\n",
    "rownames(mat_v5) <- rownames_dfv5\n",
    "rownames(mat_v3) <- rownames_dfv3\n",
    "\n",
    "#rownames(mat_t) <- rownames_dft\n",
    "\n",
    "colnames(mat_v5) <- colnames_dfv5\n",
    "colnames(mat_v3) <- colnames_dfv3\n",
    "\n",
    "#rownames(mat_v) <- rownames_dfv\n",
    "#colnames(mat_t) <- colnames_dft\n",
    "\n",
    "head(mat_v5)"
   ]
  },
  {
   "cell_type": "code",
   "execution_count": 6,
   "id": "77723460-7827-4359-9485-4ad6d4a466b7",
   "metadata": {},
   "outputs": [
    {
     "data": {
      "text/html": [
       "<strong>png:</strong> 2"
      ],
      "text/latex": [
       "\\textbf{png:} 2"
      ],
      "text/markdown": [
       "**png:** 2"
      ],
      "text/plain": [
       "png \n",
       "  2 "
      ]
     },
     "metadata": {},
     "output_type": "display_data"
    }
   ],
   "source": [
    "mat_v5[is.na(mat_v5)] <- 0\n",
    "#mat_t[mat_t == 0] <- NA\n",
    "\n",
    "promedios <- apply(mat_v5, 1, mean) \n",
    "indices <- order(promedios, decreasing = TRUE)[1:15]\n",
    "m5 <- mat_v5[indices, ]\n",
    "\n",
    "\n",
    "options(repr.plot.width = 13, repr.plot.height = 7)\n",
    "pdf(\"../../Plots/HeatmapVariants5.pdf\", width = 13, height = 7)\n",
    "htv <- Heatmap(m5, col = viridis(10), name = 'miRNA', row_names_side = \"left\", row_dend_side = \"right\", \n",
    "         column_km = 2)\n",
    "draw(htv, padding = unit(c(2, 40, 2, 2), \"mm\"))\n",
    "dev.off()"
   ]
  },
  {
   "cell_type": "code",
   "execution_count": 7,
   "id": "c89c8183-6cd9-42d9-a7b3-5db19d86d68b",
   "metadata": {},
   "outputs": [
    {
     "data": {
      "text/html": [
       "<strong>png:</strong> 2"
      ],
      "text/latex": [
       "\\textbf{png:} 2"
      ],
      "text/markdown": [
       "**png:** 2"
      ],
      "text/plain": [
       "png \n",
       "  2 "
      ]
     },
     "metadata": {},
     "output_type": "display_data"
    }
   ],
   "source": [
    "mat_v3[is.na(mat_v3)] <- 0\n",
    "#mat_t[mat_t == 0] <- NA\n",
    "\n",
    "promedios <- apply(mat_v3, 1, mean) \n",
    "indices <- order(promedios, decreasing = TRUE)[1:15]\n",
    "m3 <- mat_v3[indices, ]\n",
    "\n",
    "options(repr.plot.width = 13, repr.plot.height = 7)\n",
    "pdf(\"../../Plots/HeatmapVariants3.pdf\", width = 13, height = 7)\n",
    "htv <- Heatmap(m3, col = viridis(10), name = 'miRNA', row_names_side = \"left\", row_dend_side = \"right\", \n",
    "        column_km = 2)\n",
    "draw(htv, padding = unit(c(2, 30, 2, 2), \"mm\"))\n",
    "dev.off()"
   ]
  },
  {
   "cell_type": "code",
   "execution_count": null,
   "id": "53e8d823-1745-4934-8293-5532d3ebe62c",
   "metadata": {},
   "outputs": [],
   "source": []
  }
 ],
 "metadata": {
  "kernelspec": {
   "display_name": "R",
   "language": "R",
   "name": "ir"
  },
  "language_info": {
   "codemirror_mode": "r",
   "file_extension": ".r",
   "mimetype": "text/x-r-source",
   "name": "R",
   "pygments_lexer": "r",
   "version": "4.3.3"
  }
 },
 "nbformat": 4,
 "nbformat_minor": 5
}
